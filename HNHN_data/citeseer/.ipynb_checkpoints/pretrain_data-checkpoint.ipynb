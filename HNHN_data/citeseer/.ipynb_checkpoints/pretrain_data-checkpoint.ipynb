{
 "cells": [
  {
   "cell_type": "code",
   "execution_count": 8,
   "metadata": {},
   "outputs": [],
   "source": [
    "import pickle\n",
    "import numpy as np\n",
    "from sklearn.model_selection import train_test_split\n",
    "\n",
    "with open(\"hypergraph.pickle\", 'rb') as file:\n",
    "    hypergraph = pickle.load(file)\n",
    "\n",
    "edges = np.array([list(x) for x in hypergraph.values()])"
   ]
  },
  {
   "cell_type": "code",
   "execution_count": 9,
   "metadata": {},
   "outputs": [
    {
     "name": "stdout",
     "output_type": "stream",
     "text": [
      "863 216\n"
     ]
    }
   ],
   "source": [
    "X_train, X_test = train_test_split(edges, test_size=0.2, random_state=42)\n",
    "print(len(X_train),len(X_test))"
   ]
  },
  {
   "cell_type": "code",
   "execution_count": 10,
   "metadata": {},
   "outputs": [],
   "source": [
    "with open(\"labels.pickle\", 'rb') as file:\n",
    "    labels = pickle.load(file)\n",
    "num = [len(labels)]"
   ]
  },
  {
   "cell_type": "code",
   "execution_count": 11,
   "metadata": {},
   "outputs": [],
   "source": [
    "train_zip_new = {}\n",
    "test_zip_new = {}\n",
    "train_zip_new['train_data'] = X_train\n",
    "train_zip_new['nums_type'] = num\n",
    "test_zip_new['test_data'] = X_test\n",
    "test_zip_new['nums_type'] = num\n",
    "\n",
    "np.savez(\"train_data.npz\", **train_zip_new)\n",
    "np.savez(\"test_data.npz\", **test_zip_new)"
   ]
  },
  {
   "cell_type": "code",
   "execution_count": null,
   "metadata": {},
   "outputs": [],
   "source": []
  }
 ],
 "metadata": {
  "kernelspec": {
   "display_name": "Python 3",
   "language": "python",
   "name": "python3"
  },
  "language_info": {
   "codemirror_mode": {
    "name": "ipython",
    "version": 3
   },
   "file_extension": ".py",
   "mimetype": "text/x-python",
   "name": "python",
   "nbconvert_exporter": "python",
   "pygments_lexer": "ipython3",
   "version": "3.7.6"
  }
 },
 "nbformat": 4,
 "nbformat_minor": 2
}
