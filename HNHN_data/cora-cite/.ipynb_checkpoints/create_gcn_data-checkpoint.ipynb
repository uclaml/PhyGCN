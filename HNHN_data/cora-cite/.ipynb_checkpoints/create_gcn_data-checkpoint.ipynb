{
 "cells": [
  {
   "cell_type": "code",
   "execution_count": 1,
   "metadata": {},
   "outputs": [],
   "source": [
    "import pickle\n",
    "import numpy as np\n",
    "import itertools\n",
    "import torch\n",
    "\n",
    "file = open(\"features.pickle\",'rb')\n",
    "features = pickle.load(file)\n",
    "\n",
    "file = open(\"hypergraph.pickle\",'rb')\n",
    "hypergraph = pickle.load(file)\n",
    "\n",
    "file = open(\"labels.pickle\",'rb')\n",
    "labels = pickle.load(file)"
   ]
  },
  {
   "cell_type": "code",
   "execution_count": 2,
   "metadata": {},
   "outputs": [
    {
     "name": "stdout",
     "output_type": "stream",
     "text": [
      "# of hyperedges in graph: 1579\n",
      "# of nodes in graph: 1434\n",
      "feature shape (1434, 1433)\n",
      "Avg length of hyperedges 3.0310322989233693 and the std 1.0233126234762764\n"
     ]
    }
   ],
   "source": [
    "print('# of hyperedges in graph: %d' % len(hypergraph))\n",
    "print('# of nodes in graph: %d' % len(labels))\n",
    "print('feature shape',features.shape)\n",
    "len_list = [len(list(x)) for x in list(hypergraph.values())]\n",
    "print('Avg length of hyperedges', np.mean(len_list), 'and the std', np.std(len_list))"
   ]
  },
  {
   "cell_type": "code",
   "execution_count": 2,
   "metadata": {},
   "outputs": [
    {
     "name": "stdout",
     "output_type": "stream",
     "text": [
      "# of edges in graph: 5687\n"
     ]
    }
   ],
   "source": [
    "edges = []\n",
    "for hyperedge in hypergraph.values():\n",
    "    for result in itertools.combinations(hyperedge, 2):\n",
    "        edges.append(result)\n",
    "print('# of edges in graph: %d' % len(edges))\n",
    "\n",
    "edges = np.array(edges)"
   ]
  },
  {
   "cell_type": "code",
   "execution_count": 3,
   "metadata": {},
   "outputs": [
    {
     "data": {
      "text/plain": [
       "tensor(indices=tensor([[   0,    3,    6,  ...,  577,  812, 1433],\n",
       "                       [   0,    0,    0,  ..., 1433, 1433, 1433]]),\n",
       "       values=tensor([0.0909, 0.2000, 0.0968,  ..., 0.1111, 0.1667, 0.2500]),\n",
       "       size=(1434, 1434), nnz=9946, layout=torch.sparse_coo)"
      ]
     },
     "execution_count": 3,
     "metadata": {},
     "output_type": "execute_result"
    }
   ],
   "source": [
    "import scipy.sparse as sp\n",
    "\n",
    "def normalize(mx):\n",
    "    \"\"\"Row-normalize sparse matrix\"\"\"\n",
    "    rowsum = np.array(mx.sum(1))\n",
    "    r_inv = np.power(rowsum, -1).flatten()\n",
    "    r_inv[np.isinf(r_inv)] = 0.\n",
    "    r_mat_inv = sp.diags(r_inv)\n",
    "    mx = r_mat_inv.dot(mx)\n",
    "    return mx\n",
    "\n",
    "def sparse_mx_to_torch_sparse_tensor(sparse_mx):\n",
    "    \"\"\"Convert a scipy sparse matrix to a torch sparse tensor.\"\"\"\n",
    "    sparse_mx = sparse_mx.tocoo().astype(np.float32)\n",
    "    indices = torch.from_numpy(\n",
    "        np.vstack((sparse_mx.row, sparse_mx.col)).astype(np.int64))\n",
    "    values = torch.from_numpy(sparse_mx.data)\n",
    "    shape = torch.Size(sparse_mx.shape)\n",
    "    return torch.sparse.FloatTensor(indices, values, shape)\n",
    "\n",
    "\n",
    "adj = sp.coo_matrix((np.ones(len(edges)), (edges[:, 0], edges[:, 1])),\n",
    "                        shape=(len(labels), len(labels)),\n",
    "                        dtype=np.float32)\n",
    "adj = adj + adj.T.multiply(adj.T > adj) - adj.multiply(adj.T > adj)\n",
    "adj = normalize(adj + sp.eye(adj.shape[0]))\n",
    "adj = sparse_mx_to_torch_sparse_tensor(adj)\n",
    "\n",
    "adj "
   ]
  },
  {
   "cell_type": "code",
   "execution_count": 4,
   "metadata": {},
   "outputs": [
    {
     "data": {
      "text/plain": [
       "tensor([[0., 0., 0.,  ..., 0., 0., 0.],\n",
       "        [0., 0., 0.,  ..., 0., 0., 0.],\n",
       "        [0., 0., 0.,  ..., 0., 0., 0.],\n",
       "        ...,\n",
       "        [0., 0., 0.,  ..., 0., 0., 0.],\n",
       "        [0., 0., 0.,  ..., 0., 0., 0.],\n",
       "        [0., 0., 0.,  ..., 0., 0., 0.]])"
      ]
     },
     "execution_count": 4,
     "metadata": {},
     "output_type": "execute_result"
    }
   ],
   "source": [
    "features = normalize(features)\n",
    "features = torch.FloatTensor(np.array(features.todense()))\n",
    "features"
   ]
  },
  {
   "cell_type": "code",
   "execution_count": 5,
   "metadata": {},
   "outputs": [
    {
     "data": {
      "text/plain": [
       "tensor([3, 6, 5,  ..., 5, 4, 3])"
      ]
     },
     "execution_count": 5,
     "metadata": {},
     "output_type": "execute_result"
    }
   ],
   "source": [
    "labels = torch.LongTensor(labels)\n",
    "labels"
   ]
  },
  {
   "cell_type": "code",
   "execution_count": 6,
   "metadata": {},
   "outputs": [],
   "source": [
    "filename = 'cora-cite'\n",
    "import os\n",
    "os.mkdir(filename)\n",
    "torch.save(adj, filename+'/adj.pt')\n",
    "torch.save(features, filename+'/features.pt')\n",
    "torch.save(labels, filename+'/labels.pt')"
   ]
  },
  {
   "cell_type": "code",
   "execution_count": null,
   "metadata": {},
   "outputs": [],
   "source": []
  }
 ],
 "metadata": {
  "kernelspec": {
   "display_name": "Python 3",
   "language": "python",
   "name": "python3"
  },
  "language_info": {
   "codemirror_mode": {
    "name": "ipython",
    "version": 3
   },
   "file_extension": ".py",
   "mimetype": "text/x-python",
   "name": "python",
   "nbconvert_exporter": "python",
   "pygments_lexer": "ipython3",
   "version": "3.7.6"
  }
 },
 "nbformat": 4,
 "nbformat_minor": 2
}
